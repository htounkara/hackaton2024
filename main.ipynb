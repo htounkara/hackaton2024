{
 "cells": [
  {
   "cell_type": "markdown",
   "metadata": {},
   "source": [
    "# Transformer model\n",
    "\n",
    "1. Synchronisation des données\n",
    "\n",
    "Pour synchroniser les données, nous avons fait une interpolation entre les mesures de la main droite et la main gauche."
   ]
  },
  {
   "cell_type": "code",
   "execution_count": 5,
   "metadata": {},
   "outputs": [
    {
     "data": {
      "text/html": [
       "<div>\n",
       "<style scoped>\n",
       "    .dataframe tbody tr th:only-of-type {\n",
       "        vertical-align: middle;\n",
       "    }\n",
       "\n",
       "    .dataframe tbody tr th {\n",
       "        vertical-align: top;\n",
       "    }\n",
       "\n",
       "    .dataframe thead th {\n",
       "        text-align: right;\n",
       "    }\n",
       "</style>\n",
       "<table border=\"1\" class=\"dataframe\">\n",
       "  <thead>\n",
       "    <tr style=\"text-align: right;\">\n",
       "      <th></th>\n",
       "      <th>timestamp</th>\n",
       "      <th>x_left</th>\n",
       "      <th>y_left</th>\n",
       "      <th>z_left</th>\n",
       "      <th>x_right</th>\n",
       "      <th>y_right</th>\n",
       "      <th>z_right</th>\n",
       "    </tr>\n",
       "  </thead>\n",
       "  <tbody>\n",
       "    <tr>\n",
       "      <th>0</th>\n",
       "      <td>2024-07-19 20:00:05.080</td>\n",
       "      <td>-224</td>\n",
       "      <td>-92</td>\n",
       "      <td>-60</td>\n",
       "      <td>-240</td>\n",
       "      <td>20</td>\n",
       "      <td>56</td>\n",
       "    </tr>\n",
       "    <tr>\n",
       "      <th>1</th>\n",
       "      <td>2024-07-19 20:00:05.120</td>\n",
       "      <td>-240</td>\n",
       "      <td>-96</td>\n",
       "      <td>-72</td>\n",
       "      <td>-240</td>\n",
       "      <td>20</td>\n",
       "      <td>56</td>\n",
       "    </tr>\n",
       "    <tr>\n",
       "      <th>2</th>\n",
       "      <td>2024-07-19 20:00:05.160</td>\n",
       "      <td>-248</td>\n",
       "      <td>-108</td>\n",
       "      <td>-80</td>\n",
       "      <td>-240</td>\n",
       "      <td>20</td>\n",
       "      <td>56</td>\n",
       "    </tr>\n",
       "    <tr>\n",
       "      <th>3</th>\n",
       "      <td>2024-07-19 20:00:05.200</td>\n",
       "      <td>-236</td>\n",
       "      <td>-100</td>\n",
       "      <td>-64</td>\n",
       "      <td>-240</td>\n",
       "      <td>20</td>\n",
       "      <td>56</td>\n",
       "    </tr>\n",
       "    <tr>\n",
       "      <th>4</th>\n",
       "      <td>2024-07-19 20:00:05.240</td>\n",
       "      <td>-244</td>\n",
       "      <td>-104</td>\n",
       "      <td>-68</td>\n",
       "      <td>-240</td>\n",
       "      <td>20</td>\n",
       "      <td>56</td>\n",
       "    </tr>\n",
       "  </tbody>\n",
       "</table>\n",
       "</div>"
      ],
      "text/plain": [
       "                timestamp  x_left  y_left  z_left  x_right  y_right  z_right\n",
       "0 2024-07-19 20:00:05.080    -224     -92     -60     -240       20       56\n",
       "1 2024-07-19 20:00:05.120    -240     -96     -72     -240       20       56\n",
       "2 2024-07-19 20:00:05.160    -248    -108     -80     -240       20       56\n",
       "3 2024-07-19 20:00:05.200    -236    -100     -64     -240       20       56\n",
       "4 2024-07-19 20:00:05.240    -244    -104     -68     -240       20       56"
      ]
     },
     "execution_count": 5,
     "metadata": {},
     "output_type": "execute_result"
    }
   ],
   "source": [
    "import pandas as pd\n",
    "\n",
    "left = pd.read_csv('2ia-2024-hackathon/left_accs.csv')\n",
    "right = pd.read_csv('2ia-2024-hackathon/right_accs.csv')\n",
    "\n",
    "left = left.iloc[::2]\n",
    "right = right.iloc[::2]\n",
    "\n",
    "left.columns = ['timestamp', 'x_left', 'y_left', 'z_left']\n",
    "right.columns = ['timestamp', 'x_right', 'y_right', 'z_right']\n",
    "\n",
    "left['timestamp'] = pd.to_datetime(left['timestamp'], unit='s')\n",
    "right['timestamp'] = pd.to_datetime(right['timestamp'], unit='s')\n",
    "\n",
    "df = pd.merge_asof(left.sort_values('timestamp'), \n",
    "                       right.sort_values('timestamp'), \n",
    "                       on='timestamp', \n",
    "                       direction='nearest')\n",
    "\n",
    "# Vérifier les valeurs manquantes dues à des timestamps non alignés\n",
    "df.interpolate(method='linear', inplace=True)\n",
    "df['timestamp'] = df['timestamp'].dt.round('10ms')\n",
    "\n",
    "df.head()\n"
   ]
  },
  {
   "cell_type": "markdown",
   "metadata": {},
   "source": [
    "2. Downsampling\n",
    "\n",
    "Notre fichier 'synchronized_data_with_classes' contient les deux bras synchronisés précédemment, ainsi que les classes retranscrites à partir du journal d'activité de la patiente.\n",
    "Nous avons considéré qu'étant donné les mouvements de la personne (une personne d'âge moyen effectuant des mouvements quotidiens), il était possible d'avoir une granularité moins fine; nous avons moyenné les données par seconde."
   ]
  },
  {
   "cell_type": "code",
   "execution_count": 11,
   "metadata": {},
   "outputs": [
    {
     "name": "stderr",
     "output_type": "stream",
     "text": [
      "/var/folders/b0/pjw720ys6bs9qzq0z497tbww0000gn/T/ipykernel_4645/2341169877.py:1: DtypeWarning: Columns (7) have mixed types. Specify dtype option on import or set low_memory=False.\n",
      "  classes = pd.read_csv('synchronized_data_with_classes.csv')\n"
     ]
    },
    {
     "data": {
      "text/html": [
       "<div>\n",
       "<style scoped>\n",
       "    .dataframe tbody tr th:only-of-type {\n",
       "        vertical-align: middle;\n",
       "    }\n",
       "\n",
       "    .dataframe tbody tr th {\n",
       "        vertical-align: top;\n",
       "    }\n",
       "\n",
       "    .dataframe thead th {\n",
       "        text-align: right;\n",
       "    }\n",
       "</style>\n",
       "<table border=\"1\" class=\"dataframe\">\n",
       "  <thead>\n",
       "    <tr style=\"text-align: right;\">\n",
       "      <th></th>\n",
       "      <th>Classe</th>\n",
       "      <th>x_left</th>\n",
       "      <th>y_left</th>\n",
       "      <th>z_left</th>\n",
       "      <th>x_right</th>\n",
       "      <th>y_right</th>\n",
       "      <th>z_right</th>\n",
       "    </tr>\n",
       "    <tr>\n",
       "      <th>timestamp</th>\n",
       "      <th></th>\n",
       "      <th></th>\n",
       "      <th></th>\n",
       "      <th></th>\n",
       "      <th></th>\n",
       "      <th></th>\n",
       "      <th></th>\n",
       "    </tr>\n",
       "  </thead>\n",
       "  <tbody>\n",
       "    <tr>\n",
       "      <th>2024-07-19 20:00:07</th>\n",
       "      <td>none</td>\n",
       "      <td>-241.647059</td>\n",
       "      <td>-100.941176</td>\n",
       "      <td>-79.843137</td>\n",
       "      <td>-247.571429</td>\n",
       "      <td>23.285714</td>\n",
       "      <td>57.428571</td>\n",
       "    </tr>\n",
       "    <tr>\n",
       "      <th>2024-07-19 20:00:08</th>\n",
       "      <td>none</td>\n",
       "      <td>-245.200000</td>\n",
       "      <td>-86.320000</td>\n",
       "      <td>-76.240000</td>\n",
       "      <td>-252.880000</td>\n",
       "      <td>18.720000</td>\n",
       "      <td>43.040000</td>\n",
       "    </tr>\n",
       "    <tr>\n",
       "      <th>2024-07-19 20:00:09</th>\n",
       "      <td>none</td>\n",
       "      <td>-248.235294</td>\n",
       "      <td>-80.470588</td>\n",
       "      <td>-71.450980</td>\n",
       "      <td>-244.240000</td>\n",
       "      <td>16.240000</td>\n",
       "      <td>76.560000</td>\n",
       "    </tr>\n",
       "    <tr>\n",
       "      <th>2024-07-19 20:00:10</th>\n",
       "      <td>none</td>\n",
       "      <td>-250.480000</td>\n",
       "      <td>-89.280000</td>\n",
       "      <td>-25.840000</td>\n",
       "      <td>-238.000000</td>\n",
       "      <td>17.760000</td>\n",
       "      <td>92.000000</td>\n",
       "    </tr>\n",
       "    <tr>\n",
       "      <th>2024-07-19 20:00:11</th>\n",
       "      <td>none</td>\n",
       "      <td>-248.960000</td>\n",
       "      <td>-94.160000</td>\n",
       "      <td>-6.800000</td>\n",
       "      <td>-235.918367</td>\n",
       "      <td>23.591837</td>\n",
       "      <td>93.469388</td>\n",
       "    </tr>\n",
       "  </tbody>\n",
       "</table>\n",
       "</div>"
      ],
      "text/plain": [
       "                    Classe      x_left      y_left     z_left     x_right  \\\n",
       "timestamp                                                                   \n",
       "2024-07-19 20:00:07   none -241.647059 -100.941176 -79.843137 -247.571429   \n",
       "2024-07-19 20:00:08   none -245.200000  -86.320000 -76.240000 -252.880000   \n",
       "2024-07-19 20:00:09   none -248.235294  -80.470588 -71.450980 -244.240000   \n",
       "2024-07-19 20:00:10   none -250.480000  -89.280000 -25.840000 -238.000000   \n",
       "2024-07-19 20:00:11   none -248.960000  -94.160000  -6.800000 -235.918367   \n",
       "\n",
       "                       y_right    z_right  \n",
       "timestamp                                  \n",
       "2024-07-19 20:00:07  23.285714  57.428571  \n",
       "2024-07-19 20:00:08  18.720000  43.040000  \n",
       "2024-07-19 20:00:09  16.240000  76.560000  \n",
       "2024-07-19 20:00:10  17.760000  92.000000  \n",
       "2024-07-19 20:00:11  23.591837  93.469388  "
      ]
     },
     "execution_count": 11,
     "metadata": {},
     "output_type": "execute_result"
    }
   ],
   "source": [
    "classes = pd.read_csv('synchronized_data_with_classes.csv')\n",
    "classes['timestamp'] = pd.to_datetime(classes['timestamp'], unit='s')\n",
    "classes.set_index('timestamp', inplace=True)\n",
    "\n",
    "classes_resampled = classes.resample('1s').agg({\n",
    "    'Classe': lambda x: x.mode()[0] if not x.mode().empty else None,\n",
    "    'x_left': 'mean',\n",
    "    'y_left': 'mean',\n",
    "    'z_left': 'mean',\n",
    "    'x_right': 'mean',\n",
    "    'y_right': 'mean',\n",
    "    'z_right': 'mean'\n",
    "})\n",
    "\n",
    "classes_resampled.head()"
   ]
  },
  {
   "cell_type": "markdown",
   "metadata": {},
   "source": [
    "A cause du manque de données (et de la sous-représentation de tf), nous avons dû, lors des phases de test, entraîner jusqu'au jour 4 et tester sur le jour 5. Ensuite, si les performances étaient acceptables, nous ré-entraînions le modèle sur tous les jours disponibles (les 6), et testions sur le jour 6 également."
   ]
  },
  {
   "cell_type": "code",
   "execution_count": 120,
   "metadata": {},
   "outputs": [
    {
     "data": {
      "text/html": [
       "<div>\n",
       "<style scoped>\n",
       "    .dataframe tbody tr th:only-of-type {\n",
       "        vertical-align: middle;\n",
       "    }\n",
       "\n",
       "    .dataframe tbody tr th {\n",
       "        vertical-align: top;\n",
       "    }\n",
       "\n",
       "    .dataframe thead th {\n",
       "        text-align: right;\n",
       "    }\n",
       "</style>\n",
       "<table border=\"1\" class=\"dataframe\">\n",
       "  <thead>\n",
       "    <tr style=\"text-align: right;\">\n",
       "      <th></th>\n",
       "      <th>Classe</th>\n",
       "      <th>x_left</th>\n",
       "      <th>y_left</th>\n",
       "      <th>z_left</th>\n",
       "      <th>x_right</th>\n",
       "      <th>y_right</th>\n",
       "      <th>z_right</th>\n",
       "      <th>date</th>\n",
       "    </tr>\n",
       "    <tr>\n",
       "      <th>timestamp</th>\n",
       "      <th></th>\n",
       "      <th></th>\n",
       "      <th></th>\n",
       "      <th></th>\n",
       "      <th></th>\n",
       "      <th></th>\n",
       "      <th></th>\n",
       "      <th></th>\n",
       "    </tr>\n",
       "  </thead>\n",
       "  <tbody>\n",
       "    <tr>\n",
       "      <th>2024-07-24 23:59:55</th>\n",
       "      <td>none</td>\n",
       "      <td>144.784314</td>\n",
       "      <td>-28.549020</td>\n",
       "      <td>184.078431</td>\n",
       "      <td>-159.755102</td>\n",
       "      <td>27.346939</td>\n",
       "      <td>192.571429</td>\n",
       "      <td>2024-07-24</td>\n",
       "    </tr>\n",
       "    <tr>\n",
       "      <th>2024-07-24 23:59:56</th>\n",
       "      <td>none</td>\n",
       "      <td>145.490196</td>\n",
       "      <td>-28.235294</td>\n",
       "      <td>184.000000</td>\n",
       "      <td>-159.836735</td>\n",
       "      <td>27.020408</td>\n",
       "      <td>192.489796</td>\n",
       "      <td>2024-07-24</td>\n",
       "    </tr>\n",
       "    <tr>\n",
       "      <th>2024-07-24 23:59:57</th>\n",
       "      <td>none</td>\n",
       "      <td>145.040000</td>\n",
       "      <td>-28.720000</td>\n",
       "      <td>184.080000</td>\n",
       "      <td>-159.673469</td>\n",
       "      <td>27.428571</td>\n",
       "      <td>192.489796</td>\n",
       "      <td>2024-07-24</td>\n",
       "    </tr>\n",
       "    <tr>\n",
       "      <th>2024-07-24 23:59:58</th>\n",
       "      <td>none</td>\n",
       "      <td>145.280000</td>\n",
       "      <td>-28.720000</td>\n",
       "      <td>184.000000</td>\n",
       "      <td>-159.836735</td>\n",
       "      <td>27.265306</td>\n",
       "      <td>192.979592</td>\n",
       "      <td>2024-07-24</td>\n",
       "    </tr>\n",
       "    <tr>\n",
       "      <th>2024-07-24 23:59:59</th>\n",
       "      <td>none</td>\n",
       "      <td>145.176471</td>\n",
       "      <td>-28.784314</td>\n",
       "      <td>184.078431</td>\n",
       "      <td>-159.680000</td>\n",
       "      <td>27.600000</td>\n",
       "      <td>192.720000</td>\n",
       "      <td>2024-07-24</td>\n",
       "    </tr>\n",
       "  </tbody>\n",
       "</table>\n",
       "</div>"
      ],
      "text/plain": [
       "                    Classe      x_left     y_left      z_left     x_right  \\\n",
       "timestamp                                                                   \n",
       "2024-07-24 23:59:55   none  144.784314 -28.549020  184.078431 -159.755102   \n",
       "2024-07-24 23:59:56   none  145.490196 -28.235294  184.000000 -159.836735   \n",
       "2024-07-24 23:59:57   none  145.040000 -28.720000  184.080000 -159.673469   \n",
       "2024-07-24 23:59:58   none  145.280000 -28.720000  184.000000 -159.836735   \n",
       "2024-07-24 23:59:59   none  145.176471 -28.784314  184.078431 -159.680000   \n",
       "\n",
       "                       y_right     z_right        date  \n",
       "timestamp                                               \n",
       "2024-07-24 23:59:55  27.346939  192.571429  2024-07-24  \n",
       "2024-07-24 23:59:56  27.020408  192.489796  2024-07-24  \n",
       "2024-07-24 23:59:57  27.428571  192.489796  2024-07-24  \n",
       "2024-07-24 23:59:58  27.265306  192.979592  2024-07-24  \n",
       "2024-07-24 23:59:59  27.600000  192.720000  2024-07-24  "
      ]
     },
     "execution_count": 120,
     "metadata": {},
     "output_type": "execute_result"
    }
   ],
   "source": [
    "classes_resampled.index = pd.to_datetime(classes_resampled.index)\n",
    "classes_resampled['date'] = classes_resampled.index.date\n",
    "\n",
    "features = ['x_left', 'y_left', 'z_left', 'x_right', 'y_right', 'z_right']\n",
    "\n",
    "train_data = classes_resampled[classes_resampled['date'] < pd.Timestamp('2024-07-25').date()]\n",
    "X_train = train_data[features]\n",
    "y_train = train_data['Classe']\n",
    "\n",
    "target_date = pd.Timestamp('2024-07-24').date()\n",
    "test_data = classes_resampled[classes_resampled['date'] == target_date]\n",
    "X_test = test_data[features]\n",
    "y_test = test_data['Classe']\n",
    "\n",
    "classes_resampled = classes_resampled.drop(columns=['date'])\n",
    "\n",
    "train_data.tail()"
   ]
  },
  {
   "cell_type": "code",
   "execution_count": 121,
   "metadata": {},
   "outputs": [
    {
     "data": {
      "text/plain": [
       "timestamp\n",
       "2024-07-19 20:00:07    none\n",
       "2024-07-19 20:00:08    none\n",
       "2024-07-19 20:00:09    none\n",
       "2024-07-19 20:00:10    none\n",
       "2024-07-19 20:00:11    none\n",
       "Freq: s, Name: Classe, dtype: object"
      ]
     },
     "execution_count": 121,
     "metadata": {},
     "output_type": "execute_result"
    }
   ],
   "source": [
    "y_train.head()"
   ]
  },
  {
   "cell_type": "code",
   "execution_count": 122,
   "metadata": {},
   "outputs": [
    {
     "name": "stdout",
     "output_type": "stream",
     "text": [
      "Shape de X_train_seq: (446333, 60, 6)\n",
      "Shape de y_train_seq: (446333,)\n"
     ]
    }
   ],
   "source": [
    "import numpy as np\n",
    "from sklearn.preprocessing import LabelEncoder\n",
    "\n",
    "sequence_length = 60\n",
    "\n",
    "label_encoder = LabelEncoder()\n",
    "\n",
    "def create_sequences(X, y, sequence_length):\n",
    "    X_seq, y_seq = [], []\n",
    "    for i in range(len(X) - sequence_length):\n",
    "        X_seq.append(X[i:i + sequence_length]) \n",
    "        y_seq.append(y[i + sequence_length])\n",
    "    return np.array(X_seq), np.array(y_seq)\n",
    "\n",
    "y_train_encoded = label_encoder.fit_transform(y_train)\n",
    "y_test_encoded = label_encoder.transform(y_test)\n",
    "\n",
    "X_train_seq, y_train_seq = create_sequences(X_train.to_numpy(), y_train_encoded, sequence_length)\n",
    "X_test_seq, y_test_seq = create_sequences(X_test.to_numpy(), y_test_encoded, sequence_length)\n",
    "\n",
    "# Vérification\n",
    "print(\"Shape de X_train_seq:\", X_train_seq.shape)\n",
    "print(\"Shape de y_train_seq:\", y_train_seq.shape)\n"
   ]
  },
  {
   "cell_type": "code",
   "execution_count": 123,
   "metadata": {},
   "outputs": [
    {
     "data": {
      "text/plain": [
       "array([0, 2, 4, 5, 6, 7])"
      ]
     },
     "execution_count": 123,
     "metadata": {},
     "output_type": "execute_result"
    }
   ],
   "source": [
    "y_train.head()"
   ]
  },
  {
   "cell_type": "markdown",
   "metadata": {},
   "source": [
    "3. Modèle et entrainement\n",
    "\n",
    "Nous définissons le fbeta score sur lequel nous sommes évalués dans notre transformer afin qu'il soit optimisé par notre modèle.\n",
    "Malehureusement, nous n'avons pas réussi à l'optimiser sur notre phase d'entrainement. Il n'a donc pas été utilisé."
   ]
  },
  {
   "cell_type": "code",
   "execution_count": null,
   "metadata": {},
   "outputs": [
    {
     "name": "stderr",
     "output_type": "stream",
     "text": [
      "/opt/anaconda3/envs/TP1_2IA_ML_ADVANCED/lib/python3.12/site-packages/keras/src/layers/rnn/rnn.py:200: UserWarning: Do not pass an `input_shape`/`input_dim` argument to a layer. When using Sequential models, prefer using an `Input(shape)` object as the first layer in the model instead.\n",
      "  super().__init__(**kwargs)\n"
     ]
    },
    {
     "data": {
      "text/html": [
       "<pre style=\"white-space:pre;overflow-x:auto;line-height:normal;font-family:Menlo,'DejaVu Sans Mono',consolas,'Courier New',monospace\"><span style=\"font-weight: bold\">Model: \"sequential_26\"</span>\n",
       "</pre>\n"
      ],
      "text/plain": [
       "\u001b[1mModel: \"sequential_26\"\u001b[0m\n"
      ]
     },
     "metadata": {},
     "output_type": "display_data"
    },
    {
     "data": {
      "text/html": [
       "<pre style=\"white-space:pre;overflow-x:auto;line-height:normal;font-family:Menlo,'DejaVu Sans Mono',consolas,'Courier New',monospace\">┏━━━━━━━━━━━━━━━━━━━━━━━━━━━━━━━━━┳━━━━━━━━━━━━━━━━━━━━━━━━┳━━━━━━━━━━━━━━━┓\n",
       "┃<span style=\"font-weight: bold\"> Layer (type)                    </span>┃<span style=\"font-weight: bold\"> Output Shape           </span>┃<span style=\"font-weight: bold\">       Param # </span>┃\n",
       "┡━━━━━━━━━━━━━━━━━━━━━━━━━━━━━━━━━╇━━━━━━━━━━━━━━━━━━━━━━━━╇━━━━━━━━━━━━━━━┩\n",
       "│ lstm_26 (<span style=\"color: #0087ff; text-decoration-color: #0087ff\">LSTM</span>)                  │ (<span style=\"color: #00d7ff; text-decoration-color: #00d7ff\">None</span>, <span style=\"color: #00af00; text-decoration-color: #00af00\">128</span>)            │        <span style=\"color: #00af00; text-decoration-color: #00af00\">69,120</span> │\n",
       "├─────────────────────────────────┼────────────────────────┼───────────────┤\n",
       "│ dropout_26 (<span style=\"color: #0087ff; text-decoration-color: #0087ff\">Dropout</span>)            │ (<span style=\"color: #00d7ff; text-decoration-color: #00d7ff\">None</span>, <span style=\"color: #00af00; text-decoration-color: #00af00\">128</span>)            │             <span style=\"color: #00af00; text-decoration-color: #00af00\">0</span> │\n",
       "├─────────────────────────────────┼────────────────────────┼───────────────┤\n",
       "│ dense_53 (<span style=\"color: #0087ff; text-decoration-color: #0087ff\">Dense</span>)                │ (<span style=\"color: #00d7ff; text-decoration-color: #00d7ff\">None</span>, <span style=\"color: #00af00; text-decoration-color: #00af00\">64</span>)             │         <span style=\"color: #00af00; text-decoration-color: #00af00\">8,256</span> │\n",
       "├─────────────────────────────────┼────────────────────────┼───────────────┤\n",
       "│ dense_54 (<span style=\"color: #0087ff; text-decoration-color: #0087ff\">Dense</span>)                │ (<span style=\"color: #00d7ff; text-decoration-color: #00d7ff\">None</span>, <span style=\"color: #00af00; text-decoration-color: #00af00\">8</span>)              │           <span style=\"color: #00af00; text-decoration-color: #00af00\">520</span> │\n",
       "└─────────────────────────────────┴────────────────────────┴───────────────┘\n",
       "</pre>\n"
      ],
      "text/plain": [
       "┏━━━━━━━━━━━━━━━━━━━━━━━━━━━━━━━━━┳━━━━━━━━━━━━━━━━━━━━━━━━┳━━━━━━━━━━━━━━━┓\n",
       "┃\u001b[1m \u001b[0m\u001b[1mLayer (type)                   \u001b[0m\u001b[1m \u001b[0m┃\u001b[1m \u001b[0m\u001b[1mOutput Shape          \u001b[0m\u001b[1m \u001b[0m┃\u001b[1m \u001b[0m\u001b[1m      Param #\u001b[0m\u001b[1m \u001b[0m┃\n",
       "┡━━━━━━━━━━━━━━━━━━━━━━━━━━━━━━━━━╇━━━━━━━━━━━━━━━━━━━━━━━━╇━━━━━━━━━━━━━━━┩\n",
       "│ lstm_26 (\u001b[38;5;33mLSTM\u001b[0m)                  │ (\u001b[38;5;45mNone\u001b[0m, \u001b[38;5;34m128\u001b[0m)            │        \u001b[38;5;34m69,120\u001b[0m │\n",
       "├─────────────────────────────────┼────────────────────────┼───────────────┤\n",
       "│ dropout_26 (\u001b[38;5;33mDropout\u001b[0m)            │ (\u001b[38;5;45mNone\u001b[0m, \u001b[38;5;34m128\u001b[0m)            │             \u001b[38;5;34m0\u001b[0m │\n",
       "├─────────────────────────────────┼────────────────────────┼───────────────┤\n",
       "│ dense_53 (\u001b[38;5;33mDense\u001b[0m)                │ (\u001b[38;5;45mNone\u001b[0m, \u001b[38;5;34m64\u001b[0m)             │         \u001b[38;5;34m8,256\u001b[0m │\n",
       "├─────────────────────────────────┼────────────────────────┼───────────────┤\n",
       "│ dense_54 (\u001b[38;5;33mDense\u001b[0m)                │ (\u001b[38;5;45mNone\u001b[0m, \u001b[38;5;34m8\u001b[0m)              │           \u001b[38;5;34m520\u001b[0m │\n",
       "└─────────────────────────────────┴────────────────────────┴───────────────┘\n"
      ]
     },
     "metadata": {},
     "output_type": "display_data"
    },
    {
     "data": {
      "text/html": [
       "<pre style=\"white-space:pre;overflow-x:auto;line-height:normal;font-family:Menlo,'DejaVu Sans Mono',consolas,'Courier New',monospace\"><span style=\"font-weight: bold\"> Total params: </span><span style=\"color: #00af00; text-decoration-color: #00af00\">77,896</span> (304.28 KB)\n",
       "</pre>\n"
      ],
      "text/plain": [
       "\u001b[1m Total params: \u001b[0m\u001b[38;5;34m77,896\u001b[0m (304.28 KB)\n"
      ]
     },
     "metadata": {},
     "output_type": "display_data"
    },
    {
     "data": {
      "text/html": [
       "<pre style=\"white-space:pre;overflow-x:auto;line-height:normal;font-family:Menlo,'DejaVu Sans Mono',consolas,'Courier New',monospace\"><span style=\"font-weight: bold\"> Trainable params: </span><span style=\"color: #00af00; text-decoration-color: #00af00\">77,896</span> (304.28 KB)\n",
       "</pre>\n"
      ],
      "text/plain": [
       "\u001b[1m Trainable params: \u001b[0m\u001b[38;5;34m77,896\u001b[0m (304.28 KB)\n"
      ]
     },
     "metadata": {},
     "output_type": "display_data"
    },
    {
     "data": {
      "text/html": [
       "<pre style=\"white-space:pre;overflow-x:auto;line-height:normal;font-family:Menlo,'DejaVu Sans Mono',consolas,'Courier New',monospace\"><span style=\"font-weight: bold\"> Non-trainable params: </span><span style=\"color: #00af00; text-decoration-color: #00af00\">0</span> (0.00 B)\n",
       "</pre>\n"
      ],
      "text/plain": [
       "\u001b[1m Non-trainable params: \u001b[0m\u001b[38;5;34m0\u001b[0m (0.00 B)\n"
      ]
     },
     "metadata": {},
     "output_type": "display_data"
    }
   ],
   "source": [
    "from keras._tf_keras.keras.models import Sequential\n",
    "from keras._tf_keras.keras.layers import LSTM, Dense, Dropout\n",
    "import tensorflow as tf\n",
    "import keras\n",
    "\n",
    "def fbeta_score(y_true, y_pred, beta=1/3):\n",
    "    y_pred = tf.argmax(y_pred, axis=-1)\n",
    "    y_pred = tf.one_hot(y_pred, depth=tf.shape(y_pred)[-1])\n",
    "\n",
    "    y_true = tf.one_hot(tf.cast(y_true, tf.int32), depth=tf.shape(y_pred)[-1])\n",
    "\n",
    "    tp = tf.reduce_sum(y_true * y_pred, axis=0)  # True positives\n",
    "    fp = tf.reduce_sum((1 - y_true) * y_pred, axis=0)  # False positives\n",
    "    fn = tf.reduce_sum(y_true * (1 - y_pred), axis=0)  # False negatives\n",
    "\n",
    "    precision = tp / (tp + fp + keras.backend.epsilon())  # précision\n",
    "    recall = tp / (tp + fn + keras.backend.epsilon())  # recall\n",
    "\n",
    "    beta_squared = beta ** 2\n",
    "    fbeta = (1 + beta_squared) * (precision * recall) / (beta_squared * precision + recall + keras.backend.epsilon())\n",
    "    return tf.reduce_mean(fbeta)\n",
    "\n",
    "\n",
    "model = Sequential([\n",
    "    LSTM(128, input_shape=(sequence_length, len(features)), return_sequences=False),\n",
    "    Dropout(0.2),\n",
    "    Dense(64, activation='relu'),\n",
    "    Dense(len(y_train.unique()), activation='softmax')\n",
    "])\n",
    "\n",
    "model.compile(optimizer='adam', loss='sparse_categorical_crossentropy', metrics=['accuracy'])\n",
    "\n",
    "model.summary()\n"
   ]
  },
  {
   "cell_type": "code",
   "execution_count": null,
   "metadata": {},
   "outputs": [
    {
     "name": "stdout",
     "output_type": "stream",
     "text": [
      "Epoch 1/2\n",
      "\u001b[1m13948/13948\u001b[0m \u001b[32m━━━━━━━━━━━━━━━━━━━━\u001b[0m\u001b[37m\u001b[0m \u001b[1m250s\u001b[0m 18ms/step - accuracy: 0.8673 - loss: 0.4476 - val_accuracy: 0.8815 - val_loss: 0.3502\n",
      "Epoch 2/2\n",
      "\u001b[1m13948/13948\u001b[0m \u001b[32m━━━━━━━━━━━━━━━━━━━━\u001b[0m\u001b[37m\u001b[0m \u001b[1m246s\u001b[0m 18ms/step - accuracy: 0.8865 - loss: 0.3410 - val_accuracy: 0.8962 - val_loss: 0.2874\n"
     ]
    }
   ],
   "source": [
    "history = model.fit(\n",
    "    X_train_seq, y_train_seq,\n",
    "    validation_data=(X_test_seq, y_test_seq),\n",
    "    epochs=2,\n",
    "    batch_size=32\n",
    ")"
   ]
  },
  {
   "cell_type": "code",
   "execution_count": 137,
   "metadata": {},
   "outputs": [
    {
     "name": "stdout",
     "output_type": "stream",
     "text": [
      "\u001b[1m2699/2699\u001b[0m \u001b[32m━━━━━━━━━━━━━━━━━━━━\u001b[0m\u001b[37m\u001b[0m \u001b[1m16s\u001b[0m 6ms/step\n"
     ]
    }
   ],
   "source": [
    "y_pred_seq = model.predict(X_test_seq)\n",
    "y_pred_classes = np.argmax(y_pred_seq, axis=1)\n",
    "\n",
    "y_pred_labels = label_encoder.inverse_transform(y_pred_classes)\n"
   ]
  },
  {
   "cell_type": "code",
   "execution_count": 142,
   "metadata": {},
   "outputs": [
    {
     "data": {
      "image/png": "[encoded data removed]",
      "text/plain": [
       "<Figure size 1000x700 with 2 Axes>"
      ]
     },
     "metadata": {},
     "output_type": "display_data"
    }
   ],
   "source": [
    "#confusion matrix\n",
    "\n",
    "from sklearn.metrics import confusion_matrix\n",
    "import seaborn as sns\n",
    "import matplotlib.pyplot as plt\n",
    "\n",
    "cm = confusion_matrix(y_test_seq, y_pred_classes)\n",
    "plt.figure(figsize=(10, 7))\n",
    "sns.heatmap(cm, annot=True, fmt='d', xticklabels=label_encoder.classes_, yticklabels=label_encoder.classes_, cmap='Blues')\n",
    "plt.xlabel('Predicted')\n",
    "plt.ylabel('Actual')\n",
    "plt.title('Confusion Matrix')\n",
    "plt.show()\n"
   ]
  },
  {
   "cell_type": "code",
   "execution_count": 145,
   "metadata": {},
   "outputs": [
    {
     "name": "stderr",
     "output_type": "stream",
     "text": [
      "/var/folders/b0/pjw720ys6bs9qzq0z497tbww0000gn/T/ipykernel_4645/620267478.py:5: DtypeWarning: Columns (7) have mixed types. Specify dtype option on import or set low_memory=False.\n",
      "  classes = pd.read_csv('synchronized_data_with_classes.csv')\n"
     ]
    }
   ],
   "source": [
    "target_date = pd.Timestamp('2024-07-25').date()\n",
    "classes = pd.read_csv('synchronized_data_with_classes.csv')\n",
    "classes['timestamp'] = pd.to_datetime(classes['timestamp'], unit='s')\n",
    "classes.set_index('timestamp', inplace=True)\n",
    "\n",
    "classes_resampled = classes.resample('1s').agg({\n",
    "    'Classe': lambda x: x.mode()[0] if not x.mode().empty else None,\n",
    "    'x_left': 'mean',\n",
    "    'y_left': 'mean',\n",
    "    'z_left': 'mean',\n",
    "    'x_right': 'mean',\n",
    "    'y_right': 'mean',\n",
    "    'z_right': 'mean'\n",
    "})"
   ]
  },
  {
   "cell_type": "code",
   "execution_count": 165,
   "metadata": {},
   "outputs": [
    {
     "name": "stdout",
     "output_type": "stream",
     "text": [
      "\u001b[1m1351/1351\u001b[0m \u001b[32m━━━━━━━━━━━━━━━━━━━━\u001b[0m\u001b[37m\u001b[0m \u001b[1m0s\u001b[0m 325us/step\n"
     ]
    }
   ],
   "source": [
    "classes_resampled.index = pd.to_datetime(classes_resampled.index)\n",
    "classes_resampled['date'] = classes_resampled.index.date\n",
    "\n",
    "test_data = classes_resampled[classes_resampled['date'] == target_date]\n",
    "\n",
    "test_data = test_data.between_time('07:00:00', '19:00:01').drop(columns=['Classe', 'date'])\n",
    "\n",
    "## Prédiction\n",
    "\n",
    "x = create_sequences(test_data.to_numpy(), np.zeros(len(test_data)), 1)[0]\n",
    "\n",
    "y = model.predict(x)\n",
    "y_classes = np.argmax(y, axis=1)\n",
    "\n",
    "y_labels = label_encoder.inverse_transform(y_classes)\n"
   ]
  },
  {
   "cell_type": "code",
   "execution_count": 168,
   "metadata": {},
   "outputs": [],
   "source": [
    "time_series = pd.date_range(start='07:00:00', end='19:00:00', freq='s').strftime('%H:%M:%S')\n",
    "\n",
    "if len(y_labels) != len(time_series):\n",
    "    raise ValueError(\"Le nombre de prédictions ne correspond pas au nombre de pas de temps générés !\")\n",
    "\n",
    "# Étape 5 : Créer le DataFrame final\n",
    "output_df = pd.DataFrame({\n",
    "    'time': time_series,\n",
    "    'activity': y_labels \n",
    "})\n",
    "\n",
    "output_df.to_csv('predictions_25juillet2024_2.csv', index=False, quoting=1)\n"
   ]
  },
  {
   "cell_type": "code",
   "execution_count": 171,
   "metadata": {},
   "outputs": [
    {
     "data": {
      "text/plain": [
       "activity\n",
       "none    42600\n",
       "A         358\n",
       "K         238\n",
       "H           5\n",
       "Name: count, dtype: int64"
      ]
     },
     "execution_count": 171,
     "metadata": {},
     "output_type": "execute_result"
    }
   ],
   "source": [
    "output_df['activity'].value_counts()"
   ]
  },
  {
   "cell_type": "markdown",
   "metadata": {},
   "source": [
    "We also tried two other models, but they were not satisfying."
   ]
  },
  {
   "cell_type": "markdown",
   "metadata": {},
   "source": [
    "# Other models\n",
    "## XGBOOST"
   ]
  },
  {
   "cell_type": "code",
   "execution_count": 117,
   "metadata": {},
   "outputs": [
    {
     "name": "stderr",
     "output_type": "stream",
     "text": [
      "/var/folders/b0/pjw720ys6bs9qzq0z497tbww0000gn/T/ipykernel_4645/1597108378.py:17: SettingWithCopyWarning: \n",
      "A value is trying to be set on a copy of a slice from a DataFrame.\n",
      "Try using .loc[row_indexer,col_indexer] = value instead\n",
      "\n",
      "See the caveats in the documentation: https://pandas.pydata.org/pandas-docs/stable/user_guide/indexing.html#returning-a-view-versus-a-copy\n",
      "  train_df['Classe'] = pd.Categorical(train_df['Classe']).codes\n",
      "/var/folders/b0/pjw720ys6bs9qzq0z497tbww0000gn/T/ipykernel_4645/1597108378.py:18: SettingWithCopyWarning: \n",
      "A value is trying to be set on a copy of a slice from a DataFrame.\n",
      "Try using .loc[row_indexer,col_indexer] = value instead\n",
      "\n",
      "See the caveats in the documentation: https://pandas.pydata.org/pandas-docs/stable/user_guide/indexing.html#returning-a-view-versus-a-copy\n",
      "  test_df['Classe'] = pd.Categorical(test_df['Classe']).codes\n",
      "/opt/anaconda3/envs/TP1_2IA_ML_ADVANCED/lib/python3.12/site-packages/xgboost/core.py:158: UserWarning: [23:07:41] WARNING: /Users/runner/work/xgboost/xgboost/src/learner.cc:740: \n",
      "Parameters: { \"scale_pos_weight\" } are not used.\n",
      "\n",
      "  warnings.warn(smsg, UserWarning)\n"
     ]
    },
    {
     "name": "stdout",
     "output_type": "stream",
     "text": [
      "Classification Report :\n",
      "              precision    recall  f1-score   support\n",
      "\n",
      "           0       0.26      0.06      0.10      5700\n",
      "           1       0.00      0.00      0.00      5400\n",
      "           2       0.04      0.00      0.00      1980\n",
      "           3       0.00      0.00      0.00       360\n",
      "           4       0.00      0.00      0.00       240\n",
      "           5       0.44      0.00      0.00     72720\n",
      "           6       0.00      0.00      0.00         0\n",
      "\n",
      "    accuracy                           0.00     86400\n",
      "   macro avg       0.11      0.01      0.01     86400\n",
      "weighted avg       0.39      0.00      0.01     86400\n",
      "\n",
      "Matrice de confusion :\n",
      "[[  352     4     2     2    48     6  5286]\n",
      " [   29     0     8     2     0     2  5359]\n",
      " [   64     0     1     0     0     1  1914]\n",
      " [    8     0     0     0     0     0   352]\n",
      " [    2     0     0     0     0     0   238]\n",
      " [  874     1    12     3     8     7 71815]\n",
      " [    0     0     0     0     0     0     0]]\n"
     ]
    },
    {
     "name": "stderr",
     "output_type": "stream",
     "text": [
      "/opt/anaconda3/envs/TP1_2IA_ML_ADVANCED/lib/python3.12/site-packages/sklearn/metrics/_classification.py:1531: UndefinedMetricWarning: Recall is ill-defined and being set to 0.0 in labels with no true samples. Use `zero_division` parameter to control this behavior.\n",
      "  _warn_prf(average, modifier, f\"{metric.capitalize()} is\", len(result))\n",
      "/opt/anaconda3/envs/TP1_2IA_ML_ADVANCED/lib/python3.12/site-packages/sklearn/metrics/_classification.py:1531: UndefinedMetricWarning: Recall is ill-defined and being set to 0.0 in labels with no true samples. Use `zero_division` parameter to control this behavior.\n",
      "  _warn_prf(average, modifier, f\"{metric.capitalize()} is\", len(result))\n",
      "/opt/anaconda3/envs/TP1_2IA_ML_ADVANCED/lib/python3.12/site-packages/sklearn/metrics/_classification.py:1531: UndefinedMetricWarning: Recall is ill-defined and being set to 0.0 in labels with no true samples. Use `zero_division` parameter to control this behavior.\n",
      "  _warn_prf(average, modifier, f\"{metric.capitalize()} is\", len(result))\n"
     ]
    }
   ],
   "source": [
    "import pandas as pd\n",
    "from xgboost import XGBClassifier\n",
    "from sklearn.preprocessing import StandardScaler\n",
    "from sklearn.metrics import classification_report, confusion_matrix\n",
    "from collections import Counter\n",
    "\n",
    "df = pd.read_csv('synchronized_data_with_classes-H.csv', parse_dates=['timestamp'])\n",
    "\n",
    "df['date'] = pd.to_datetime(df['timestamp'], format='%Y-%m-%d %H:%M:%S').dt.date\n",
    "\n",
    "train_df = df[df['date'] <= pd.to_datetime('2024-07-23').date()] \n",
    "test_df = df[df['date'] == pd.to_datetime('2024-07-24').date()]\n",
    "\n",
    "train_df['Classe'] = pd.Categorical(train_df['Classe']).codes\n",
    "test_df['Classe'] = pd.Categorical(test_df['Classe']).codes\n",
    "\n",
    "features = ['x_left', 'y_left', 'z_left', 'x_right', 'y_right', 'z_right']\n",
    "X_train = train_df[features]\n",
    "y_train = train_df['Classe']\n",
    "\n",
    "X_test = test_df[features]\n",
    "y_test = test_df['Classe']\n",
    "\n",
    "scaler = StandardScaler()\n",
    "X_train_scaled = scaler.fit_transform(X_train)\n",
    "X_test_scaled = scaler.transform(X_test)\n",
    "\n",
    "model = XGBClassifier(\n",
    "    objective='multi:softmax',\n",
    "    eval_metric='mlogloss',\n",
    "    max_depth=6,\n",
    "    learning_rate=0.1,\n",
    "    n_estimators=100,\n",
    "    subsample=0.8,\n",
    "    colsample_bytree=0.8,\n",
    "    scale_pos_weight=1\n",
    ")\n",
    "\n",
    "model.fit(X_train_scaled, y_train)\n",
    "\n",
    "y_pred = model.predict(X_test_scaled)\n",
    "\n",
    "y_test = pd.Categorical(y_test).codes\n",
    "y_pred = pd.Categorical(y_pred).codes\n",
    "\n",
    "print(\"Classification Report :\")\n",
    "print(classification_report(y_test, y_pred))\n",
    "\n",
    "print(\"Matrice de confusion :\")\n",
    "print(confusion_matrix(y_test, y_pred))\n"
   ]
  },
  {
   "cell_type": "markdown",
   "metadata": {},
   "source": [
    "## MLP"
   ]
  },
  {
   "cell_type": "code",
   "execution_count": 1,
   "metadata": {},
   "outputs": [
    {
     "name": "stderr",
     "output_type": "stream",
     "text": [
      "/var/folders/b0/pjw720ys6bs9qzq0z497tbww0000gn/T/ipykernel_10996/2003711067.py:15: SettingWithCopyWarning: \n",
      "A value is trying to be set on a copy of a slice from a DataFrame.\n",
      "Try using .loc[row_indexer,col_indexer] = value instead\n",
      "\n",
      "See the caveats in the documentation: https://pandas.pydata.org/pandas-docs/stable/user_guide/indexing.html#returning-a-view-versus-a-copy\n",
      "  test_df['Classe'] = test_df['Classe'].fillna('none')\n",
      "/var/folders/b0/pjw720ys6bs9qzq0z497tbww0000gn/T/ipykernel_10996/2003711067.py:17: SettingWithCopyWarning: \n",
      "A value is trying to be set on a copy of a slice from a DataFrame.\n",
      "Try using .loc[row_indexer,col_indexer] = value instead\n",
      "\n",
      "See the caveats in the documentation: https://pandas.pydata.org/pandas-docs/stable/user_guide/indexing.html#returning-a-view-versus-a-copy\n",
      "  train_df['Classe'] = pd.Categorical(train_df['Classe']).codes\n",
      "/var/folders/b0/pjw720ys6bs9qzq0z497tbww0000gn/T/ipykernel_10996/2003711067.py:18: SettingWithCopyWarning: \n",
      "A value is trying to be set on a copy of a slice from a DataFrame.\n",
      "Try using .loc[row_indexer,col_indexer] = value instead\n",
      "\n",
      "See the caveats in the documentation: https://pandas.pydata.org/pandas-docs/stable/user_guide/indexing.html#returning-a-view-versus-a-copy\n",
      "  test_df['Classe'] = pd.Categorical(test_df['Classe']).codes\n"
     ]
    },
    {
     "name": "stdout",
     "output_type": "stream",
     "text": [
      "Classification Report :\n",
      "              precision    recall  f1-score   support\n",
      "\n",
      "           0       0.30      0.15      0.20      5700\n",
      "           1       0.07      0.00      0.00      5400\n",
      "           2       0.00      0.00      0.00      1980\n",
      "           3       0.07      0.00      0.01       360\n",
      "           4       0.00      0.00      0.00       240\n",
      "           5       0.58      0.00      0.00     72720\n",
      "           6       0.00      0.00      0.00         0\n",
      "\n",
      "    accuracy                           0.01     86400\n",
      "   macro avg       0.14      0.02      0.03     86400\n",
      "weighted avg       0.51      0.01      0.01     86400\n",
      "\n",
      "Matrice de confusion :\n",
      "[[  834     2     0     4    17     7  4836]\n",
      " [  107     1     0     4    12     2  5274]\n",
      " [  194     1     0     0     8     5  1772]\n",
      " [   24     0     0     1     1     0   334]\n",
      " [   13     0     0     0     0     2   225]\n",
      " [ 1628    11     2     6    41    22 71010]\n",
      " [    0     0     0     0     0     0     0]]\n"
     ]
    },
    {
     "name": "stderr",
     "output_type": "stream",
     "text": [
      "/opt/anaconda3/envs/TP1_2IA_ML_ADVANCED/lib/python3.12/site-packages/sklearn/metrics/_classification.py:1531: UndefinedMetricWarning: Recall is ill-defined and being set to 0.0 in labels with no true samples. Use `zero_division` parameter to control this behavior.\n",
      "  _warn_prf(average, modifier, f\"{metric.capitalize()} is\", len(result))\n",
      "/opt/anaconda3/envs/TP1_2IA_ML_ADVANCED/lib/python3.12/site-packages/sklearn/metrics/_classification.py:1531: UndefinedMetricWarning: Recall is ill-defined and being set to 0.0 in labels with no true samples. Use `zero_division` parameter to control this behavior.\n",
      "  _warn_prf(average, modifier, f\"{metric.capitalize()} is\", len(result))\n",
      "/opt/anaconda3/envs/TP1_2IA_ML_ADVANCED/lib/python3.12/site-packages/sklearn/metrics/_classification.py:1531: UndefinedMetricWarning: Recall is ill-defined and being set to 0.0 in labels with no true samples. Use `zero_division` parameter to control this behavior.\n",
      "  _warn_prf(average, modifier, f\"{metric.capitalize()} is\", len(result))\n"
     ]
    }
   ],
   "source": [
    "import pandas as pd\n",
    "from sklearn.preprocessing import StandardScaler\n",
    "from sklearn.neural_network import MLPClassifier\n",
    "from sklearn.metrics import classification_report, confusion_matrix\n",
    "\n",
    "df = pd.read_csv('synchronized_data_with_classes-H.csv')\n",
    "\n",
    "df.columns = ['timestamp', 'x_left', 'y_left', 'z_left', 'x_right', 'y_right', 'z_right', 'Classe']\n",
    "\n",
    "df['date'] = pd.to_datetime(df['timestamp'], format='%Y-%m-%d %H:%M:%S').dt.date  # Extraire la date sous format 'YYYY-MM-DD'\n",
    "\n",
    "train_df = df[df['date'] <= pd.to_datetime('2024-07-23').date()]  \n",
    "test_df = df[df['date'] == pd.to_datetime('2024-07-24').date()] \n",
    "\n",
    "test_df['Classe'] = test_df['Classe'].fillna('none')\n",
    "\n",
    "train_df['Classe'] = pd.Categorical(train_df['Classe']).codes\n",
    "test_df['Classe'] = pd.Categorical(test_df['Classe']).codes\n",
    "\n",
    "features = ['x_left', 'y_left', 'z_left', 'x_right', 'y_right', 'z_right']\n",
    "X_train = train_df[features]\n",
    "y_train = train_df['Classe']\n",
    "X_test = test_df[features]\n",
    "y_test = test_df['Classe']\n",
    "\n",
    "scaler = StandardScaler()\n",
    "X_train_scaled = scaler.fit_transform(X_train)\n",
    "X_test_scaled = scaler.transform(X_test)\n",
    "\n",
    "mlp = MLPClassifier(hidden_layer_sizes=(100,), max_iter=300, random_state=42, activation='relu')\n",
    "\n",
    "mlp.fit(X_train_scaled, y_train)\n",
    "\n",
    "y_pred = mlp.predict(X_test_scaled)\n",
    "\n",
    "print(\"Classification Report :\")\n",
    "print(classification_report(y_test, y_pred))\n",
    "\n",
    "print(\"Matrice de confusion :\")\n",
    "print(confusion_matrix(y_test, y_pred))\n"
   ]
  }
 ],
 "metadata": {
  "kernelspec": {
   "display_name": "TP1_2IA_ML_ADVANCED",
   "language": "python",
   "name": "python3"
  },
  "language_info": {
   "codemirror_mode": {
    "name": "ipython",
    "version": 3
   },
   "file_extension": ".py",
   "mimetype": "text/x-python",
   "name": "python",
   "nbconvert_exporter": "python",
   "pygments_lexer": "ipython3",
   "version": "3.12.5"
  }
 },
 "nbformat": 4,
 "nbformat_minor": 2
}
